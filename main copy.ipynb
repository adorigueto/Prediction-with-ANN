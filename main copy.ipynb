{
 "cells": [
  {
   "cell_type": "markdown",
   "metadata": {},
   "source": [
    "### LIBRARIES"
   ]
  },
  {
   "cell_type": "code",
   "execution_count": 1,
   "metadata": {},
   "outputs": [],
   "source": [
    "# LIBRARIES\n",
    "vim: syntax=python",
    "import math\n",
    "import pandas as pd\n",
    "import os\n",
    "import numpy as np\n",
    "import matplotlib.pyplot as plt\n",
    "import pickle\n",
    "import chime        # Notification sounds\n",
    "from matplotlib import rc\n",
    "from tensorflow import keras\n",
    "from sklearn.model_selection import StratifiedShuffleSplit, train_test_split, ShuffleSplit, GroupShuffleSplit\n",
    "from sklearn import preprocessing\n",
    "from tensorflow.keras import layers\n",
    "from tensorflow.keras.callbacks import ModelCheckpoint, EarlyStopping\n",
    "from functools import partial\n",
    "%load_ext chime"
   ]
  },
  {
   "cell_type": "markdown",
   "metadata": {},
   "source": [
    "### SETTING STYLE"
   ]
  },
  {
   "cell_type": "code",
   "execution_count": 2,
   "metadata": {},
   "outputs": [],
   "source": [
    "# STYLE\n",
    "# Plot/table options\n",
    "desired_width = 400\n",
    "pd.set_option('display.width', desired_width)\n",
    "pd.set_option('display.max_columns', 12)\n",
    "rc('font', **{'family': 'serif', 'serif': ['Times New Roman']})\n",
    "plt.rcParams['font.size'] = 14\n",
    "\n",
    "# Colors RGB\n",
    "ccm_black_rgb = [0, 0, 0]\n",
    "ccm_dgray_rgb = [85, 85, 85]\n",
    "ccm_gray_rgb = [210, 210, 210]\n",
    "ccm_dblue_rgb = [25, 50, 120]\n",
    "ccm_blue_rgb = [20, 80, 200]\n",
    "ccm_lblue_rgb = [170, 200, 230]\n",
    "ccm_red_rgb = [190, 0, 0]\n",
    "ccm_orange_rgb = [255, 100, 0]\n",
    "\n",
    "colors = [ccm_black_rgb, ccm_dgray_rgb, ccm_gray_rgb, ccm_dblue_rgb, ccm_blue_rgb, ccm_lblue_rgb, ccm_red_rgb,\n",
    "          ccm_orange_rgb]\n",
    "color = ['black', 'dgray', 'gray', 'dblue', 'blue', 'lblue', 'red', 'orange']\n",
    "\n",
    "# Change decimal to binary\n",
    "i = 0\n",
    "for i in range(0, 8):\n",
    "    color[i] = [colors[i] / 255 for colors[i] in colors[i]]\n",
    "\n",
    "# Notification sounds\n",
    "chime.theme('material')"
   ]
  },
  {
   "cell_type": "markdown",
   "metadata": {},
   "source": [
    "### DATA PREPARATION"
   ]
  },
  {
   "cell_type": "markdown",
   "metadata": {},
   "source": [
    "#### Load"
   ]
  },
  {
   "cell_type": "code",
   "execution_count": null,
   "metadata": {},
   "outputs": [],
   "source": [
    "# DATA PREPARATION\n",
    "# Load file\n",
    "directory = \"C:/Users/André/Documents/00_ITA/00_Mestrado/20_Data_Preparation/\"\n",
    "file_name = \"top_force.csv\"\n",
    "\n",
    "file = pd.read_csv(directory + file_name)\n",
    "print(\"\\n# File head\\n\", file.head())\n",
    "\n",
    "# Dropping unnecessary columns\n",
    "main_df = file.copy()\n",
    "main_df.drop(['Exp', 'Tool', 'Block', 'SBlock',\n",
    "           'Position', 'Condition', 'TCond', 'Run',\n",
    "           'Length', 'Di', 'Df', 'CTime', 'RAngle'],\n",
    "           axis=1, inplace=True)\n",
    "print(\"\\n\\n\\n# File head after dropping unnecessary columns\\n\", main_df.head())"
   ]
  },
  {
   "cell_type": "markdown",
   "metadata": {},
   "source": [
    "### Feature selection & scaling"
   ]
  },
  {
   "cell_type": "code",
   "execution_count": 6,
   "metadata": {},
   "outputs": [],
   "source": [
    "# Define features and labels\n",
    "features = ['ap', 'vc', 'f', 'Fx', 'Fy', 'Fz', 'F']\n",
    "labels = ['Ra']\n",
    "x_main = main_df.copy()[features]\n",
    "y = main_df.copy()[labels]\n",
    "\n",
    "# Scale x\n",
    "sc_location = \"C:/Users/André/Documents/00_ITA/00_Mestrado/70_pyproject/pyproject/\"\n",
    "sc_name = \"standardize_all_data_wo_TCond.pkl\"\n",
    "sc = pickle.load(open(sc_location + sc_name, 'rb'))\n",
    "\n",
    "x_array = sc.transform(x_main)\n",
    "x = pd.DataFrame(data = x_array,\n",
    "    columns = x_main.columns, index = x_main.index)"
   ]
  },
  {
   "cell_type": "markdown",
   "metadata": {},
   "source": [
    "### MODEL BUILD"
   ]
  },
  {
   "cell_type": "code",
   "execution_count": null,
   "metadata": {},
   "outputs": [],
   "source": [
    "# MODEL BUILD\n",
    "# Clean session\n",
    "keras.backend.clear_session()\n",
    "\n",
    "# Define standard layers\n",
    "Regularized_Dense = partial(keras.layers.Dense, activation = \"relu\")\n",
    "\n",
    "\n",
    "# Funtion to create model\n",
    "def create_model():\n",
    "    '''This function creates a sequential model'''\n",
    "    model = keras.Sequential()\n",
    "    model.add(keras.Input(shape = x.shape[1:]))\n",
    "    model.add(Regularized_Dense(28))\n",
    "    # model.add(layers.Dropout(0.1))\n",
    "    model.add(Regularized_Dense(56))\n",
    "    # model.add(layers.Dropout(0.1))\n",
    "    model.add(Regularized_Dense(14))\n",
    "    # model.add(layers.Dropout(0.1))\n",
    "    model.add(layers.Dense(1))\n",
    "    \n",
    "    optimizer = keras.optimizers.SGD(learning_rate=0.01, momentum=0.95)\n",
    "    \n",
    "    model.compile(\n",
    "        loss = \"mean_squared_error\",\n",
    "        optimizer = optimizer,\n",
    "        metrics = [\"mean_absolute_percentage_error\", \"mean_absolute_error\"])\n",
    "    \n",
    "    return model\n",
    "\n",
    "checkpoint_path = \"ANN1.H.L_full.hdf5\"\n",
    "cp = ModelCheckpoint(checkpoint_path,\n",
    "                             monitor='mean_absolute_percentage_error',\n",
    "                             verbose=1,\n",
    "                             save_best_only=True,\n",
    "                             save_weights_only=True,\n",
    "                             mode='min')\n",
    "\n",
    "es = EarlyStopping(monitor = \"loss\",\n",
    "    min_delta = 0.0001,\n",
    "    patience = 500,\n",
    "    verbose = 1,\n",
    "    mode = \"min\")\n",
    "\n",
    "callbacks = [cp, es]\n",
    "\n",
    "model = create_model()\n",
    "model.summary()"
   ]
  },
  {
   "cell_type": "markdown",
   "metadata": {},
   "source": [
    "### LEARN AND EVALUATE"
   ]
  },
  {
   "cell_type": "code",
   "execution_count": null,
   "metadata": {},
   "outputs": [],
   "source": [
    "# LEARN\n",
    "epochs = 10000\n",
    "history = model.fit(x, y, epochs = epochs,\n",
    "                    batch_size = 20, callbacks = callbacks,\n",
    "                    verbose = 1)\n",
    "\n",
    "# EVALUATE\n",
    "loss = model.evaluate(x, y)\n",
    "print('\\nModel evaluation: \\n', loss)\n",
    "%chime"
   ]
  },
  {
   "cell_type": "markdown",
   "metadata": {},
   "source": [
    "### MODEL SAVE"
   ]
  },
  {
   "cell_type": "code",
   "execution_count": null,
   "metadata": {},
   "outputs": [],
   "source": [
    "model = create_model()\n",
    "model.load_weights(checkpoint_path)\n",
    "loss = model.evaluate(x, y, verbose=2)\n",
    "# model.save(\"ANN1.H.L_full\")"
   ]
  }
 ],
 "metadata": {
  "kernelspec": {
   "display_name": "Python 3.9.7 ('mitavenv')",
   "language": "python",
   "name": "python3"
  },
  "language_info": {
   "codemirror_mode": {
    "name": "ipython",
    "version": 3
   },
   "file_extension": ".py",
   "mimetype": "text/x-python",
   "name": "python",
   "nbconvert_exporter": "python",
   "pygments_lexer": "ipython3",
   "version": "3.9.7"
  },
  "orig_nbformat": 4,
  "vscode": {
   "interpreter": {
    "hash": "22143127303833b9364bf5d4f6fb10b3fe6c6195b5e2a457ce6d7eb0ed3873ae"
   }
  }
 },
 "nbformat": 4,
 "nbformat_minor": 2
}
